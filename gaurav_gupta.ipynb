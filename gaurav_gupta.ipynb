{
  "nbformat": 4,
  "nbformat_minor": 0,
  "metadata": {
    "colab": {
      "provenance": []
    },
    "kernelspec": {
      "name": "python3",
      "display_name": "Python 3"
    },
    "language_info": {
      "name": "python"
    }
  },
  "cells": [
    {
      "cell_type": "code",
      "execution_count": null,
      "metadata": {
        "id": "eNrUcWau81oo"
      },
      "outputs": [],
      "source": [
        "# DevTown PYTHON AND MACHINE LEARNING BOOTCAMP\n",
        "Hi I made this project during the 7 Days Free Bootcamp, conducted by <b> DevTown\n",
        "</b>.\n",
        "The instructor during the session was Mr. Shaurya Sinha (Co-Founder at DevTown). I got to\n",
        "learn a lot during these 7 days and it was an amazing experience learning with DevTown.\n",
        "<br><br>Here's the link for you to watch the sessions as well<br>\n",
        "<a href=\"https://www.youtube.com/playlist?list=PL7zl8TDRnbulNEA-59W7wWgCWE8LEOD6h\"> <img src=\"https://github.com/ShapeAI/PYTHON-AND-DATA-ANALYTICS/blob/main/machine%20learning.png\"> </a>\n",
        "<br>I got to have hands on experience on:\n",
        "<li>Python\n",
        "<li>Machine Learning\n",
        "<li>Tensorflow\n",
        "<br>during these 7 days, and everything was explained from the very basics so that\n",
        "anyone with zero experience on programming can learn.\n",
        "I enjoyed these 7 days, you can as well. To register for next free 7 days bootcamp, visit:\n",
        "<a href=\"https://www.Devtown.in\"> www.Devtown.in</a>\n",
        "or follow DevTown on:\n",
        "<li><a href=\n",
        "\"https://www.linkedin.com/company/devtown-in/\">LinkedIn</a>\n",
        "<li><a href=\n",
        "\"https://www.instagram.com/devtown.in/\">Instagram</a>\n",
        "<li><a\n",
        "href=\n",
        "\"https://www.youtube.com/c/DevTownIndia\">YouTu\n",
        "be</a>\n",
        "<li><a href=\n",
        "\"https://github.com/shapeai\">GitHub</a>\n"
      ]
    }
  ]
}